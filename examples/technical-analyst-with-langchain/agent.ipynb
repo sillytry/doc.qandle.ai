{
 "cells": [
  {
   "cell_type": "markdown",
   "metadata": {},
   "source": [
    "# Technical Analyst Agent with LangChain and Qandle AI"
   ]
  },
  {
   "cell_type": "markdown",
   "metadata": {},
   "source": [
    "## Setup\n",
    "\n",
    "Let's start by intalling the required dependencies:\n"
   ]
  },
  {
   "cell_type": "code",
   "execution_count": 1,
   "metadata": {},
   "outputs": [],
   "source": [
    "%%capture --no-stderr\n",
    "%pip install --quiet -U langgraph langchain-core langchain-ollama qandle-ai\n"
   ]
  },
  {
   "cell_type": "markdown",
   "metadata": {},
   "source": [
    "And setup our API keys for Open AI (LLM/model) and Qandle AI (for stock market data):"
   ]
  },
  {
   "cell_type": "code",
   "execution_count": 3,
   "metadata": {},
   "outputs": [],
   "source": [
    "import os, getpass\n",
    "\n",
    "def _set_env(var: str):\n",
    "    if not os.environ.get(var):\n",
    "        os.environ[var] = getpass.getpass(f\"{var}: \")\n",
    "\n",
    "_set_env(\"QANDLE_API_KEY\")"
   ]
  },
  {
   "cell_type": "markdown",
   "metadata": {},
   "source": [
    "# Creating the agent"
   ]
  },
  {
   "cell_type": "markdown",
   "metadata": {},
   "source": [
    "First, we will develop a tool to fetch stock market data using `Qandle AI`.\n",
    "\n",
    "Qandle AI is a platform that provides comprehensive stock market insights.\n",
    "\n",
    "We will call this tool `get_stock`. It accepts a stock symbol and returns a summary using the `QandleClient`."
   ]
  },
  {
   "cell_type": "code",
   "execution_count": 4,
   "metadata": {},
   "outputs": [],
   "source": [
    "from qandle_ai import QandleClient\n",
    "\n",
    "def get_stock(symbol: str) -> str:\n",
    "    \"\"\"Retrieve the current action summary for a stock using the Qandle AI API.\n",
    "\n",
    "    Args:\n",
    "        symbol (str): The stock symbol for which to obtain the current action summary.\n",
    "    \"\"\"\n",
    "    qandle_client = QandleClient()\n",
    "    return qandle_client.get(symbol)"
   ]
  },
  {
   "cell_type": "code",
   "execution_count": null,
   "metadata": {},
   "outputs": [],
   "source": [
    "response = get_stock(\"AAPL\")\n",
    "import pprint\n",
    "pprint.pprint(response, width=80)"
   ]
  },
  {
   "cell_type": "markdown",
   "metadata": {},
   "source": [
    "Next, we declare our chat model using `langchain` and prompt it with the overall desired agent behavior. We also bind our tool `get_stock` to the model, so that the assistant can invoke it when needed.\n"
   ]
  },
  {
   "cell_type": "code",
   "execution_count": 6,
   "metadata": {},
   "outputs": [],
   "source": [
    "from langgraph.graph import MessagesState\n",
    "from langchain_core.messages import SystemMessage\n",
    "from langchain_ollama import ChatOllama\n",
    "\n",
    "# System message\n",
    "sys_msg = SystemMessage(content=\"You are a helpful assistant tasked with performing arithmetic on a set of inputs.\")\n",
    "\n",
    "# Define our tools list\n",
    "tools = [get_stock]\n",
    "\n",
    "# Define our LLM\n",
    "llm = ChatOllama(model=\"llama3.2\", base_url=\"http://localhost:11434\")\n",
    "\n",
    "# Create LLM with bound tools\n",
    "llm_with_tools = llm.bind_tools(tools)\n",
    "\n",
    "# Node\n",
    "def assistant(state: MessagesState):\n",
    "   return {\"messages\": [llm_with_tools.invoke([sys_msg] + state[\"messages\"])]}"
   ]
  },
  {
   "cell_type": "markdown",
   "metadata": {},
   "source": [
    "Finally, let's bring it together by creating our graph using `langgraph`."
   ]
  },
  {
   "cell_type": "code",
   "execution_count": null,
   "metadata": {},
   "outputs": [],
   "source": [
    "from IPython.display import Image, display\n",
    "from langgraph.graph import MessagesState, StateGraph, START\n",
    "from langgraph.prebuilt import ToolNode\n",
    "from langgraph.prebuilt import tools_condition\n",
    "\n",
    "\n",
    "# Create the state graph\n",
    "builder = StateGraph(MessagesState)\n",
    "\n",
    "# Add nodes\n",
    "builder.add_node(\"assistant\", assistant)  # Our main assistant\n",
    "builder.add_node(\"tools\", ToolNode(tools))  # Tool execution node\n",
    "\n",
    "# Add edges\n",
    "builder.add_edge(START, \"assistant\")  # Always start with the assistant\n",
    "\n",
    "# Add conditional edge from assistant\n",
    "builder.add_conditional_edges(\n",
    "    \"assistant\",\n",
    "    # This function decides what to do next:\n",
    "    # - If assistant made tool calls → go to \"tools\"\n",
    "    # - If no tool calls → end the conversation (END)\n",
    "    tools_condition,\n",
    ")\n",
    "\n",
    "# After tools execute, always go back to assistant\n",
    "builder.add_edge(\"tools\", \"assistant\")\n",
    "\n",
    "# Compile the graph\n",
    "graph = builder.compile()\n",
    "\n",
    "# Display the graph\n",
    "display(Image(graph.get_graph().draw_mermaid_png()))\n"
   ]
  },
  {
   "cell_type": "code",
   "execution_count": null,
   "metadata": {},
   "outputs": [],
   "source": [
    "from langchain_core.messages import HumanMessage\n",
    "messages = [HumanMessage(content=\"What is the price of AAPL?\")]\n",
    "messages = graph.invoke({\"messages\": messages})\n",
    "for m in messages['messages']:\n",
    "    m.pretty_print()"
   ]
  }
 ],
 "metadata": {
  "kernelspec": {
   "display_name": "Python 3",
   "language": "python",
   "name": "python3"
  },
  "language_info": {
   "codemirror_mode": {
    "name": "ipython",
    "version": 3
   },
   "file_extension": ".py",
   "mimetype": "text/x-python",
   "name": "python",
   "nbconvert_exporter": "python",
   "pygments_lexer": "ipython3",
   "version": "3.11.6"
  }
 },
 "nbformat": 4,
 "nbformat_minor": 2
}
